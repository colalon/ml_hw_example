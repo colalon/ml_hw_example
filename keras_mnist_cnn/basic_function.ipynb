{
 "cells": [
  {
   "cell_type": "markdown",
   "metadata": {},
   "source": [
    "# keras 安裝\n",
    "\n",
    "conda install -c conda-forge keras\n",
    "\n",
    "# theano 安裝\n",
    "\n",
    "conda install -c conda-forge theano\n",
    "\n",
    "# tensorflow 安裝\n",
    "\n",
    "conda install -c conda-forge tensorflow\n",
    "\n",
    "### theano , tensorlfow 擇一安裝\n",
    "\n",
    "## 將keras backend 改為 tensorflow\n",
    "\n",
    "https://github.com/keras-team/keras/issues/6925"
   ]
  },
  {
   "cell_type": "code",
   "execution_count": 1,
   "metadata": {},
   "outputs": [
    {
     "name": "stderr",
     "output_type": "stream",
     "text": [
      "C:\\Users\\adm\\Anaconda3\\lib\\site-packages\\h5py\\__init__.py:36: FutureWarning: Conversion of the second argument of issubdtype from `float` to `np.floating` is deprecated. In future, it will be treated as `np.float64 == np.dtype(float).type`.\n",
      "  from ._conv import register_converters as _register_converters\n",
      "Using TensorFlow backend.\n"
     ]
    }
   ],
   "source": [
    "from __future__ import print_function\n",
    "import keras\n",
    "from keras.datasets import mnist\n",
    "from keras.models import Sequential,Model\n",
    "from keras.layers import Dense, Dropout, Flatten,Activation\n",
    "from keras.layers import Conv2D, MaxPooling2D,Input,BatchNormalization\n",
    "import matplotlib.pylab as plt\n",
    "import numpy as np\n",
    "from keras.layers import Convolution2D"
   ]
  },
  {
   "cell_type": "markdown",
   "metadata": {},
   "source": [
    "# Dense example"
   ]
  },
  {
   "cell_type": "code",
   "execution_count": 2,
   "metadata": {},
   "outputs": [
    {
     "name": "stdout",
     "output_type": "stream",
     "text": [
      "test_input.shape (1, 3)\n",
      "[[0.142218   0.93216578 0.85670315]]\n",
      "test_output.shape (1, 2)\n",
      "[[ 0.24651913 -0.9596418 ]]\n"
     ]
    }
   ],
   "source": [
    "from keras import backend as K\n",
    "_input = Input(shape=(3,))\n",
    "_output = Dense(2)(_input)\n",
    "model = Model(inputs=_input, outputs=_output)\n",
    "\n",
    "test_input = np.random.random((1,3))\n",
    "test_output = model.predict(test_input)\n",
    "print ('test_input.shape',test_input.shape)\n",
    "print (test_input)\n",
    "print ('test_output.shape',test_output.shape)\n",
    "print (test_output)"
   ]
  },
  {
   "cell_type": "code",
   "execution_count": 3,
   "metadata": {},
   "outputs": [
    {
     "name": "stdout",
     "output_type": "stream",
     "text": [
      "weights shape (3, 2)\n",
      "[[ 0.3564055   0.07868588]\n",
      " [-0.02549016 -0.54719895]\n",
      " [ 0.25632322 -0.53782016]]\n",
      "bias shape (2,)\n",
      "[0. 0.]\n"
     ]
    }
   ],
   "source": [
    "w = model.get_weights()\n",
    "print ('weights shape',w[0].shape)\n",
    "print (w[0])\n",
    "print ('bias shape',w[1].shape)\n",
    "print (w[1])"
   ]
  },
  {
   "cell_type": "markdown",
   "metadata": {},
   "source": [
    "# activation example"
   ]
  },
  {
   "cell_type": "code",
   "execution_count": 4,
   "metadata": {},
   "outputs": [
    {
     "name": "stdout",
     "output_type": "stream",
     "text": [
      "test_input (1, 5)\n",
      "[[ 6.23906458 -6.71709116  4.2575992  -0.40897475  0.45344982]]\n",
      "test_output (1, 5)\n",
      "[[6.2390647  0.         4.2575994  0.         0.45344982]]\n"
     ]
    }
   ],
   "source": [
    "_input = Input(shape=(5,))\n",
    "_output = Activation('relu')(_input) #輸入小於0 輸出為0\n",
    "#_output = Activation('softmax')(_input) #輸出為0~1\n",
    "#_output = Activation('sigmoid')(_input) #輸出中最大值接近1 其他輸出趨近於0\n",
    "#_output = Activation('tanh')(_input) #輸出為-1~1\n",
    "model = Model(inputs=_input, outputs=_output)\n",
    "test_input = np.random.random((1,5)) * 20 - 10\n",
    "test_output = model.predict(test_input)\n",
    "\n",
    "print ('test_input',test_input.shape)\n",
    "print (test_input)\n",
    "print ('test_output',test_output.shape)\n",
    "print (test_output)"
   ]
  },
  {
   "cell_type": "markdown",
   "metadata": {},
   "source": [
    "# Conv2d example"
   ]
  },
  {
   "cell_type": "code",
   "execution_count": 5,
   "metadata": {},
   "outputs": [
    {
     "name": "stdout",
     "output_type": "stream",
     "text": [
      "(1, 3, 3, 2)\n",
      "[[[[0.47184671 0.50985619]\n",
      "   [0.88865374 0.3343746 ]\n",
      "   [0.32016907 0.39706613]]\n",
      "\n",
      "  [[0.74792539 0.02621117]\n",
      "   [0.41634754 0.29575214]\n",
      "   [0.45113064 0.69726718]]\n",
      "\n",
      "  [[0.05697901 0.46491351]\n",
      "   [0.07723063 0.48251197]\n",
      "   [0.05064448 0.08468584]]]]\n",
      "(1, 1, 1, 4)\n",
      "[[[[ 0.5248277   0.41947055 -0.21354976  0.4699921 ]]]]\n"
     ]
    }
   ],
   "source": [
    "_input = Input(shape=(3,3,2))\n",
    "_output = Conv2D(4, kernel_size=(3, 3))(_input)\n",
    "model = Model(inputs=_input, outputs=_output)\n",
    "\n",
    "test_input = np.random.random((1,3,3,2))\n",
    "test_output = model.predict(test_input)\n",
    "print (test_input.shape)\n",
    "print (test_input)\n",
    "print (test_output.shape)\n",
    "print (test_output)"
   ]
  },
  {
   "cell_type": "code",
   "execution_count": 6,
   "metadata": {},
   "outputs": [
    {
     "name": "stdout",
     "output_type": "stream",
     "text": [
      "weights shape (3, 3, 2, 4)\n",
      "[[[[-0.3186316   0.05324498 -0.16964722  0.12221026]\n",
      "   [-0.00514713  0.21883312  0.1697717  -0.03339085]]\n",
      "\n",
      "  [[ 0.31823555  0.2610902  -0.25007161  0.04769301]\n",
      "   [ 0.27161083 -0.00252733 -0.02658334  0.07360864]]\n",
      "\n",
      "  [[ 0.11606845  0.20697102  0.07600412  0.31245282]\n",
      "   [-0.27881163  0.301855    0.01319185  0.07290277]]]\n",
      "\n",
      "\n",
      " [[[ 0.18864062 -0.13308558  0.00150624  0.03184447]\n",
      "   [ 0.29555258 -0.01624456 -0.14593546  0.26951924]]\n",
      "\n",
      "  [[ 0.07240662 -0.2427756   0.10617876  0.004639  ]\n",
      "   [ 0.29312238 -0.067444   -0.16948494  0.2137337 ]]\n",
      "\n",
      "  [[ 0.09433365 -0.2666852  -0.11172709  0.19384375]\n",
      "   [ 0.0436376   0.22101316  0.11255917  0.03866681]]]\n",
      "\n",
      "\n",
      " [[[ 0.06108975  0.24287501  0.1384503  -0.02227163]\n",
      "   [-0.13203907  0.3003539  -0.07826987  0.14851704]]\n",
      "\n",
      "  [[ 0.275754    0.08978114 -0.16495237 -0.07027578]\n",
      "   [ 0.2402443  -0.24283442  0.03883281 -0.12829137]]\n",
      "\n",
      "  [[-0.25602698 -0.3155958  -0.15358281  0.04103407]\n",
      "   [-0.3221473   0.30010393 -0.09093675  0.24100044]]]]\n",
      "bias shape (4,)\n",
      "[0. 0. 0. 0.]\n"
     ]
    }
   ],
   "source": [
    "w = model.get_weights()\n",
    "print ('weights shape',w[0].shape)\n",
    "print (w[0])\n",
    "print ('bias shape',w[1].shape)\n",
    "print (w[1])"
   ]
  },
  {
   "cell_type": "markdown",
   "metadata": {},
   "source": [
    "# Flatten example (CNN to MLP)"
   ]
  },
  {
   "cell_type": "code",
   "execution_count": 7,
   "metadata": {},
   "outputs": [
    {
     "name": "stdout",
     "output_type": "stream",
     "text": [
      "test_input (1, 3, 3, 2)\n",
      "[[[[0.44488774 0.97715578]\n",
      "   [0.23437948 0.09571922]\n",
      "   [0.06036802 0.82900185]]\n",
      "\n",
      "  [[0.08138948 0.46415936]\n",
      "   [0.86632128 0.16868592]\n",
      "   [0.08037857 0.14869628]]\n",
      "\n",
      "  [[0.64424894 0.57973077]\n",
      "   [0.04033299 0.14412855]\n",
      "   [0.17744161 0.78047032]]]]\n",
      "test_output (1, 18)\n",
      "[[0.44488773 0.9771558  0.23437949 0.09571922 0.06036802 0.82900184\n",
      "  0.08138948 0.46415937 0.86632127 0.16868591 0.08037858 0.14869627\n",
      "  0.64424896 0.57973075 0.04033299 0.14412856 0.17744161 0.7804703 ]]\n"
     ]
    }
   ],
   "source": [
    "_input = Input(shape=(3,3,2))\n",
    "_output = Flatten()(_input)\n",
    "model = Model(inputs=_input, outputs=_output)\n",
    "test_input = np.random.random((1,3,3,2))\n",
    "test_output = model.predict_on_batch(test_input)\n",
    "\n",
    "print ('test_input',test_input.shape)\n",
    "print (test_input)\n",
    "print ('test_output',test_output.shape)\n",
    "print (test_output)"
   ]
  },
  {
   "cell_type": "code",
   "execution_count": null,
   "metadata": {},
   "outputs": [],
   "source": []
  }
 ],
 "metadata": {
  "kernelspec": {
   "display_name": "Python 3",
   "language": "python",
   "name": "python3"
  },
  "language_info": {
   "codemirror_mode": {
    "name": "ipython",
    "version": 3
   },
   "file_extension": ".py",
   "mimetype": "text/x-python",
   "name": "python",
   "nbconvert_exporter": "python",
   "pygments_lexer": "ipython3",
   "version": "3.6.4"
  }
 },
 "nbformat": 4,
 "nbformat_minor": 2
}
