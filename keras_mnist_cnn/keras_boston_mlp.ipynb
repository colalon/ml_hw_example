{
 "cells": [
  {
   "cell_type": "markdown",
   "metadata": {},
   "source": [
    "# boston house price using MLP"
   ]
  },
  {
   "cell_type": "code",
   "execution_count": 1,
   "metadata": {},
   "outputs": [
    {
     "name": "stderr",
     "output_type": "stream",
     "text": [
      "C:\\Users\\adm\\Anaconda3\\lib\\site-packages\\h5py\\__init__.py:36: FutureWarning: Conversion of the second argument of issubdtype from `float` to `np.floating` is deprecated. In future, it will be treated as `np.float64 == np.dtype(float).type`.\n",
      "  from ._conv import register_converters as _register_converters\n",
      "Using TensorFlow backend.\n"
     ]
    }
   ],
   "source": [
    "from __future__ import print_function\n",
    "import keras\n",
    "from keras.datasets import boston_housing\n",
    "from keras.models import Sequential,Model\n",
    "from keras.layers import Dense, Dropout, Flatten,Activation\n",
    "from keras.layers import Input,BatchNormalization\n",
    "import matplotlib.pyplot as plt\n",
    "import numpy as np\n",
    "from keras.layers import Convolution2D"
   ]
  },
  {
   "cell_type": "markdown",
   "metadata": {},
   "source": [
    "# 資料前處理"
   ]
  },
  {
   "cell_type": "code",
   "execution_count": 2,
   "metadata": {},
   "outputs": [
    {
     "name": "stdout",
     "output_type": "stream",
     "text": [
      "(404, 13)\n",
      "(404, 1)\n",
      "(102, 13)\n",
      "(102, 1)\n"
     ]
    }
   ],
   "source": [
    "(x_train, y_train), (x_test, y_test) = boston_housing.load_data()\n",
    "y_train = y_train.reshape(-1,1)\n",
    "y_test = y_test.reshape(-1,1)\n",
    "print (x_train.shape)\n",
    "print (y_train.shape)\n",
    "print (x_test.shape)\n",
    "print (y_test.shape)"
   ]
  },
  {
   "cell_type": "markdown",
   "metadata": {},
   "source": [
    "# 模型建立"
   ]
  },
  {
   "cell_type": "code",
   "execution_count": 3,
   "metadata": {},
   "outputs": [
    {
     "name": "stdout",
     "output_type": "stream",
     "text": [
      "_________________________________________________________________\n",
      "Layer (type)                 Output Shape              Param #   \n",
      "=================================================================\n",
      "dense_1 (Dense)              (None, 100)               1400      \n",
      "_________________________________________________________________\n",
      "batch_normalization_1 (Batch (None, 100)               400       \n",
      "_________________________________________________________________\n",
      "dense_2 (Dense)              (None, 100)               10100     \n",
      "_________________________________________________________________\n",
      "batch_normalization_2 (Batch (None, 100)               400       \n",
      "_________________________________________________________________\n",
      "dense_3 (Dense)              (None, 25)                2525      \n",
      "_________________________________________________________________\n",
      "batch_normalization_3 (Batch (None, 25)                100       \n",
      "_________________________________________________________________\n",
      "dense_4 (Dense)              (None, 10)                260       \n",
      "_________________________________________________________________\n",
      "dense_5 (Dense)              (None, 1)                 11        \n",
      "=================================================================\n",
      "Total params: 15,196\n",
      "Trainable params: 14,746\n",
      "Non-trainable params: 450\n",
      "_________________________________________________________________\n"
     ]
    }
   ],
   "source": [
    "model = Sequential()\n",
    "model.add(Dense(100,input_dim = 13))\n",
    "model.add(BatchNormalization())\n",
    "model.add(Dense(100,activation='relu'))\n",
    "model.add(BatchNormalization())\n",
    "model.add(Dense(25,activation='relu'))\n",
    "model.add(BatchNormalization())\n",
    "model.add(Dense(10,activation='relu'))\n",
    "model.add(Dense(1))\n",
    "model.compile(loss=keras.losses.mean_squared_error,optimizer=keras.optimizers.Adam())\n",
    "model.summary()"
   ]
  },
  {
   "cell_type": "markdown",
   "metadata": {},
   "source": [
    "# 模型訓練"
   ]
  },
  {
   "cell_type": "code",
   "execution_count": 4,
   "metadata": {},
   "outputs": [
    {
     "name": "stdout",
     "output_type": "stream",
     "text": [
      "Train on 404 samples, validate on 102 samples\n",
      "Epoch 1/20\n",
      "404/404 [==============================] - 3s 7ms/step - loss: 513.6924 - val_loss: 445.1736\n",
      "Epoch 2/20\n",
      "404/404 [==============================] - 0s 609us/step - loss: 439.4539 - val_loss: 388.7593\n",
      "Epoch 3/20\n",
      "404/404 [==============================] - 0s 560us/step - loss: 358.0240 - val_loss: 327.0585\n",
      "Epoch 4/20\n",
      "404/404 [==============================] - 0s 657us/step - loss: 256.2855 - val_loss: 200.3161\n",
      "Epoch 5/20\n",
      "404/404 [==============================] - 0s 558us/step - loss: 178.3139 - val_loss: 127.7274\n",
      "Epoch 6/20\n",
      "404/404 [==============================] - 0s 657us/step - loss: 119.9578 - val_loss: 118.9794\n",
      "Epoch 7/20\n",
      "404/404 [==============================] - 0s 637us/step - loss: 88.3078 - val_loss: 87.6963\n",
      "Epoch 8/20\n",
      "404/404 [==============================] - 0s 635us/step - loss: 71.6306 - val_loss: 99.5178\n",
      "Epoch 9/20\n",
      "404/404 [==============================] - 0s 672us/step - loss: 52.6637 - val_loss: 55.3320\n",
      "Epoch 10/20\n",
      "404/404 [==============================] - 0s 617us/step - loss: 60.5403 - val_loss: 42.2158\n",
      "Epoch 11/20\n",
      "404/404 [==============================] - 0s 612us/step - loss: 50.8571 - val_loss: 37.0106\n",
      "Epoch 12/20\n",
      "404/404 [==============================] - 0s 647us/step - loss: 48.6362 - val_loss: 32.7267\n",
      "Epoch 13/20\n",
      "404/404 [==============================] - 0s 654us/step - loss: 51.6863 - val_loss: 39.4435\n",
      "Epoch 14/20\n",
      "404/404 [==============================] - 0s 672us/step - loss: 44.8764 - val_loss: 98.4161\n",
      "Epoch 15/20\n",
      "404/404 [==============================] - 0s 632us/step - loss: 34.4389 - val_loss: 61.8549\n",
      "Epoch 16/20\n",
      "404/404 [==============================] - 0s 650us/step - loss: 38.7550 - val_loss: 26.7193\n",
      "Epoch 17/20\n",
      "404/404 [==============================] - 0s 615us/step - loss: 44.0084 - val_loss: 26.7484\n",
      "Epoch 18/20\n",
      "404/404 [==============================] - 0s 657us/step - loss: 38.3191 - val_loss: 28.4467\n",
      "Epoch 19/20\n",
      "404/404 [==============================] - 0s 654us/step - loss: 33.3890 - val_loss: 34.0898\n",
      "Epoch 20/20\n",
      "404/404 [==============================] - 0s 654us/step - loss: 37.2874 - val_loss: 27.6382\n",
      "102/102 [==============================] - 0s 157us/step\n",
      "Test loss: 27.638155619303387\n"
     ]
    }
   ],
   "source": [
    "epochs = 20 #整批數據訓練次數\n",
    "batch_size = 10 #一次訓練張數\n",
    "\n",
    "model.fit(x_train, y_train,batch_size=batch_size,epochs=epochs,validation_data=(x_test, y_test))\n",
    "\n",
    "score = model.evaluate(x_test, y_test)\n",
    "print('Test loss:', score)"
   ]
  },
  {
   "cell_type": "markdown",
   "metadata": {},
   "source": [
    "# 訓練結果展示"
   ]
  },
  {
   "cell_type": "code",
   "execution_count": 5,
   "metadata": {},
   "outputs": [
    {
     "data": {
      "image/png": "[encoded data removed]",
      "text/plain": [
       "<matplotlib.figure.Figure at 0x27da08cd748>"
      ]
     },
     "metadata": {},
     "output_type": "display_data"
    }
   ],
   "source": [
    "import numpy as np\n",
    "test_data = x_test #第1-10比測試資料\n",
    "test_result=model.predict(test_data)\n",
    "\n",
    "plt.plot(test_result, y_test,'ro')\n",
    "plt.xlabel('test_result')\n",
    "plt.ylabel('y_test')\n",
    "plt.show()\n"
   ]
  },
  {
   "cell_type": "code",
   "execution_count": null,
   "metadata": {},
   "outputs": [],
   "source": []
  }
 ],
 "metadata": {
  "kernelspec": {
   "display_name": "Python 3",
   "language": "python",
   "name": "python3"
  },
  "language_info": {
   "codemirror_mode": {
    "name": "ipython",
    "version": 3
   },
   "file_extension": ".py",
   "mimetype": "text/x-python",
   "name": "python",
   "nbconvert_exporter": "python",
   "pygments_lexer": "ipython3",
   "version": "3.6.4"
  }
 },
 "nbformat": 4,
 "nbformat_minor": 2
}
